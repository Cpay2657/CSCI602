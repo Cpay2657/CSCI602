version https://git-lfs.github.com/spec/v1
oid sha256:9fda2fe1711d87d01927eec5aa4b88a2b299a342ab801ddd0bb6a9f553224cec
size 727360
