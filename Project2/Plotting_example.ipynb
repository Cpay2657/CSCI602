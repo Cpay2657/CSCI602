version https://git-lfs.github.com/spec/v1
oid sha256:2ba3a958e04f7e539fc6d587b7eb511dbc5fdc00299eac5c4e8d404809ad2b62
size 289793
