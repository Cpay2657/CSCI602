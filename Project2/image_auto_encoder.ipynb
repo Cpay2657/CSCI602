{
  "cells": [
    {
      "cell_type": "markdown",
      "metadata": {
        "id": "view-in-github",
        "colab_type": "text"
      },
      "source": [
        "<a href=\"https://colab.research.google.com/github/Cpay2657/CSCI602/blob/main/Project2/image_auto_encoder.ipynb\" target=\"_parent\"><img src=\"https://colab.research.google.com/assets/colab-badge.svg\" alt=\"Open In Colab\"/></a>"
      ]
    },
    {
      "cell_type": "code",
      "source": [
        "!nvidia-smi"
      ],
      "metadata": {
        "colab": {
          "base_uri": "https://localhost:8080/"
        },
        "id": "FkRFxlHQmWNL",
        "outputId": "c9a2aaff-5dfb-40fb-f1e4-2bea043368a9"
      },
      "execution_count": 6,
      "outputs": [
        {
          "output_type": "stream",
          "name": "stdout",
          "text": [
            "/bin/bash: line 1: nvidia-smi: command not found\n"
          ]
        }
      ]
    },
    {
      "cell_type": "code",
      "source": [
        "!git clone https://github.com/Cpay2657/CSCI602.git\n",
        "%ls"
      ],
      "metadata": {
        "colab": {
          "base_uri": "https://localhost:8080/"
        },
        "id": "W8_o1sT3oQ_1",
        "outputId": "07fa42df-1b72-47e8-d4a5-984eef2c5023"
      },
      "execution_count": 6,
      "outputs": [
        {
          "output_type": "stream",
          "name": "stdout",
          "text": [
            "Cloning into 'CSCI602'...\n",
            "remote: Enumerating objects: 22137, done.\u001b[K\n",
            "remote: Counting objects: 100% (22137/22137), done.\u001b[K\n",
            "remote: Compressing objects: 100% (22118/22118), done.\u001b[K\n",
            "remote: Total 22137 (delta 22), reused 21983 (delta 3), pack-reused 0 (from 0)\u001b[K\n",
            "Receiving objects: 100% (22137/22137), 4.23 MiB | 18.04 MiB/s, done.\n",
            "Resolving deltas: 100% (22/22), done.\n",
            "Updating files: 100% (22473/22473), done.\n",
            "Filtering content: 100% (22453/22453), 330.24 MiB | 1.12 MiB/s, done.\n",
            "\u001b[0m\u001b[01;34mCSCI602\u001b[0m/  \u001b[01;34msample_data\u001b[0m/\n"
          ]
        }
      ]
    },
    {
      "cell_type": "code",
      "source": [
        "!pip install statsmodels"
      ],
      "metadata": {
        "colab": {
          "base_uri": "https://localhost:8080/"
        },
        "id": "d0aaKv5EVX2P",
        "outputId": "fd0dab26-0150-4853-ad23-84e184f77bda"
      },
      "execution_count": 3,
      "outputs": [
        {
          "output_type": "stream",
          "name": "stdout",
          "text": [
            "Collecting statsmodels\n",
            "  Downloading statsmodels-0.14.4-cp310-cp310-manylinux_2_17_x86_64.manylinux2014_x86_64.whl.metadata (9.2 kB)\n",
            "Requirement already satisfied: numpy<3,>=1.22.3 in /usr/local/lib/python3.10/dist-packages (from statsmodels) (1.26.4)\n",
            "Requirement already satisfied: scipy!=1.9.2,>=1.8 in /usr/local/lib/python3.10/dist-packages (from statsmodels) (1.13.1)\n",
            "Requirement already satisfied: pandas!=2.1.0,>=1.4 in /usr/local/lib/python3.10/dist-packages (from statsmodels) (2.2.2)\n",
            "Collecting patsy>=0.5.6 (from statsmodels)\n",
            "  Downloading patsy-1.0.1-py2.py3-none-any.whl.metadata (3.3 kB)\n",
            "Requirement already satisfied: packaging>=21.3 in /usr/local/lib/python3.10/dist-packages (from statsmodels) (24.2)\n",
            "Requirement already satisfied: python-dateutil>=2.8.2 in /usr/local/lib/python3.10/dist-packages (from pandas!=2.1.0,>=1.4->statsmodels) (2.9.0.post0)\n",
            "Requirement already satisfied: pytz>=2020.1 in /usr/local/lib/python3.10/dist-packages (from pandas!=2.1.0,>=1.4->statsmodels) (2024.2)\n",
            "Requirement already satisfied: tzdata>=2022.7 in /usr/local/lib/python3.10/dist-packages (from pandas!=2.1.0,>=1.4->statsmodels) (2024.2)\n",
            "Requirement already satisfied: six>=1.5 in /usr/local/lib/python3.10/dist-packages (from python-dateutil>=2.8.2->pandas!=2.1.0,>=1.4->statsmodels) (1.16.0)\n",
            "Downloading statsmodels-0.14.4-cp310-cp310-manylinux_2_17_x86_64.manylinux2014_x86_64.whl (10.8 MB)\n",
            "\u001b[2K   \u001b[90m━━━━━━━━━━━━━━━━━━━━━━━━━━━━━━━━━━━━━━━━\u001b[0m \u001b[32m10.8/10.8 MB\u001b[0m \u001b[31m90.8 MB/s\u001b[0m eta \u001b[36m0:00:00\u001b[0m\n",
            "\u001b[?25hDownloading patsy-1.0.1-py2.py3-none-any.whl (232 kB)\n",
            "\u001b[2K   \u001b[90m━━━━━━━━━━━━━━━━━━━━━━━━━━━━━━━━━━━━━━━━\u001b[0m \u001b[32m232.9/232.9 kB\u001b[0m \u001b[31m17.2 MB/s\u001b[0m eta \u001b[36m0:00:00\u001b[0m\n",
            "\u001b[?25hInstalling collected packages: patsy, statsmodels\n",
            "Successfully installed patsy-1.0.1 statsmodels-0.14.4\n"
          ]
        }
      ]
    },
    {
      "cell_type": "code",
      "source": [
        "%cd CSCI602/"
      ],
      "metadata": {
        "colab": {
          "base_uri": "https://localhost:8080/"
        },
        "id": "EPDx1fCVW2yj",
        "outputId": "cd72cce5-ad21-4b5a-c271-b44c722d0880"
      },
      "execution_count": 9,
      "outputs": [
        {
          "output_type": "stream",
          "name": "stdout",
          "text": [
            "/content/CSCI602\n"
          ]
        }
      ]
    },
    {
      "cell_type": "code",
      "execution_count": 29,
      "metadata": {
        "id": "jLWM6Hu6kr99"
      },
      "outputs": [],
      "source": [
        "from keras.layers import Flatten\n",
        "from statsmodels.sandbox.panel.sandwich_covariance_generic import kernel\n",
        "from tensorflow.keras.layers import Dense, Conv2DTranspose, Conv2D, Input, UpSampling2D, AveragePooling2D, LeakyReLU\n",
        "from tensorflow.keras.models import Sequential, load_model, Model\n",
        "from tensorflow.keras import initializers\n",
        "from tensorflow.keras.callbacks import EarlyStopping, CSVLogger\n",
        "import tensorflow.keras.preprocessing.image as image\n",
        "from tensorflow.keras import optimizers\n",
        "import os\n",
        "import json\n",
        "import matplotlib.pyplot as plt\n",
        "from matplotlib.image import imsave\n",
        "import numpy as np\n",
        "import utils\n",
        "import argparse\n",
        "import csv\n",
        "import matplotlib.pyplot as plt\n",
        "\n",
        "class ImageAutoEncdoderDecoder(object):\n",
        "    def __init__(self, train_config, x=None, y=None, x_test=None, y_test=None, do_val:bool=False, initialization:int=0):\n",
        "        self.initialization = initialization\n",
        "        self.model = None\n",
        "        self.reuse_pretrained_ae = train_config['reuse_pretrained']\n",
        "        self.do_val = do_val\n",
        "        self.input_shape = tuple(train_config['input_shape'])\n",
        "        self.train_decoder = train_config['train_decoder']\n",
        "        pre_train_config = train_config[\"ae_pre_train_config\"]\n",
        "        self.pre_trained_ae_path = pre_train_config[\"pre_trained_ae_path\"]\n",
        "        self.pre_batch_size = pre_train_config[\"batch_size\"]\n",
        "        self.pre_epochs = 10 #pre_train_config[\"epochs\"]\n",
        "        self.pre_patience = pre_train_config[\"patience\"]\n",
        "        pre_save_path = \"/content/CSCI602/Project2/models/ae_augmentors/pretrained_ae.keras\" #pre_train_config[\"ae_model_savepath\"]\n",
        "        opt_config = pre_train_config[\"optimizer\"]\n",
        "        self.training_log_filename = \"image_auto_encoder_log.csv\"\n",
        "\n",
        "\n",
        "        self.input_layer = Input(shape=self.input_shape)\n",
        "\n",
        "        # If a pre-trained autoencoder path is not provided builds, compiles and trains one\n",
        "        if self.pre_trained_ae_path is None or not os.path.isfile(self.pre_trained_ae_path) or not self.reuse_pretrained_ae:\n",
        "        #if not self.pre_trained_ae_path or not self.reuse_pretrained_ae:\n",
        "            print(\"\\n\\nPretrained auto-encoder path not provided or resue False. Pretraining base auto-encoder model\")\n",
        "\n",
        "            self.model = self.build_base_ae()\n",
        "            self.compile(opt_config, self.model)\n",
        "\n",
        "            self.model = self.pre_train_ae(x, x_test, self.model)\n",
        "            if pre_save_path:\n",
        "                print('save pretrained ae model ', pre_save_path)\n",
        "                self.model.save(pre_save_path)\n",
        "            else:\n",
        "                print('ae_model_savepath empty, skipping save pretrained ae model.')\n",
        "            print(\"\\nPre-trained auto-encoder model saved: \", pre_save_path,\"\\n\")\n",
        "            self.pre_trained_ae_path = pre_save_path\n",
        "\n",
        "        else:\n",
        "            print(\"\\nLoading base auto-encoder model \", self.pre_trained_ae_path, \"\\n\")\n",
        "            self.model = load_model(self.pre_trained_ae_path)\n",
        "\n",
        "        if self.do_val:\n",
        "            self.validate(x_test, y_test, self.model, num_reconstruct=10)\n",
        "\n",
        "\n",
        "\n",
        "\n",
        "    def build_base_ae(self):\n",
        "        if self.initialization ==0:\n",
        "            kernal_init = initializers.GlorotNormal\n",
        "        elif self.initialization==1:\n",
        "            kernal_init = initializers.HeNormal\n",
        "        elif self.initialization==2:\n",
        "            kernal_init = initializers.LecunNormal\n",
        "        elif self.initialization==3:\n",
        "            kernal_init = initializers.RandomNormal\n",
        "        elif self.initialization==4:\n",
        "            kernal_init = initializers.GlorotUniform\n",
        "        elif self.initialization==5:\n",
        "            kernal_init = initializers.RandomUniform\n",
        "\n",
        "\n",
        "        # conv = Conv2D(filters=3, kernel_size=(32,32), activation='relu', name=\"encode_1\",\n",
        "        #                  kernel_initializer=kernal_init, input_shape=self.input_shape, padding='same') (self.input_layer)\n",
        "        # conv = Conv2D(filters=2, kernel_size=(16, 16), activation='relu', name=\"encode_2\",\n",
        "        #               kernel_initializer=kernal_init, padding='same')(self.input_layer)\n",
        "        # conv = Conv2D(filters=4, kernel_size=(8, 8), activation='relu', name=\"encode_3\",\n",
        "        #               kernel_initializer=kernal_init, padding='same')(conv)\n",
        "        # conv = Conv2D(filters=8, kernel_size=(6, 6), activation='relu', name=\"encode_4\",\n",
        "        #               kernel_initializer=kernal_init, padding='same')(conv)\n",
        "        conv = Conv2D(filters=16, kernel_size=(4, 4), activation='sigmoid', name=\"encode_5\",\n",
        "                      kernel_initializer=kernal_init, padding='same')(self.input_layer)\n",
        "        conv = Conv2D(filters=32, kernel_size=(2, 2), activation='sigmoid', name=\"encode_6\",\n",
        "                      kernel_initializer=kernal_init, padding='same')(conv)\n",
        "        # conv = Conv2D(filters=8, kernel_size=(2, 2), activation='relu', name=\"encode_4\",\n",
        "        #               kernel_initializer=kernal_init)(conv)\n",
        "\n",
        "        pool = AveragePooling2D(name='encode_out')(conv)\n",
        "\n",
        "        # encoded = Flatten()(pool)\n",
        "\n",
        "\n",
        "        up_sample = UpSampling2D(size=2, name='decode_up_sample', interpolation='bilinear')(pool)\n",
        "        # dense_1 =\n",
        "\n",
        "\n",
        "        conv_t = Conv2D(filters=16, kernel_size=(2, 2), activation='sigmoid', name=\"decode_1\",\n",
        "                                  kernel_initializer=kernal_init, padding='same',)(up_sample)\n",
        "\n",
        "        decoder_out = Conv2D(filters=3, kernel_size=(4, 4), activation='sigmoid', name=\"decode_2\",\n",
        "                                  kernel_initializer=kernal_init, padding='same')(conv_t)\n",
        "        #\n",
        "        # conv_t = Conv2DTranspose(filters=8, kernel_size=(6, 6), activation='relu', name=\"decode_3\",\n",
        "        #                          kernel_initializer=kernal_init, padding='same')(conv_t)\n",
        "        #\n",
        "        # conv_t = Conv2DTranspose(filters=4, kernel_size=(8, 8), activation='relu', name=\"decode_4\",\n",
        "        #                          kernel_initializer=kernal_init, padding='same')(conv_t)\n",
        "        #\n",
        "        # decoder_out = Conv2DTranspose(filters=2, kernel_size=(16, 16), activation='relu', name=\"decode_5\",\n",
        "        #                          kernel_initializer=kernal_init, padding='same')(conv_t)\n",
        "        #\n",
        "        # # decoder_out = Conv2DTranspose(filters=3, kernel_size=(32, 32), name=\"decode_out\",\n",
        "        # #                          kernel_initializer=kernal_init, padding='same')(conv_t)\n",
        "\n",
        "        # decoder_out = LeakyReLU()(decoder_out)\n",
        "        # decoder_out = Conv2D(filters=3, kernel_size=(3, 3), activation='sigmoid', name=\"decode_out\",\n",
        "        #                      padding='same')(conv_t)\n",
        "\n",
        "        model = Model(inputs=self.input_layer,outputs=decoder_out)\n",
        "        return model\n",
        "\n",
        "\n",
        "\n",
        "    def compile(self, opt_config, model):\n",
        "        opt = optimizers.get(opt_config[\"identifier\"])\n",
        "        opt.learning_rate = 0.001 #opt_config[\"learning_rate\"]\n",
        "        model.compile(optimizer=opt, loss='binary_crossentropy', metrics='accuracy')\n",
        "\n",
        "    def pre_train_ae(self, x_train, x_test, model):\n",
        "        model.summary()\n",
        "        es = EarlyStopping('val_loss', patience=self.pre_patience, restore_best_weights=True)\n",
        "        csv_logger = CSVLogger(self.training_log_filename, append=False)\n",
        "        model.fit(x_train, x_train,\n",
        "                       epochs=self.pre_epochs, batch_size=self.pre_batch_size, callbacks=[es, csv_logger],\n",
        "                       validation_data=(x_test, x_test))\n",
        "        return model\n",
        "\n",
        "    def load_data(self, path, input_shape):\n",
        "        \"\"\"\n",
        "                :param domain_type_return:\n",
        "                :return:\n",
        "                \"\"\"\n",
        "        print(\"loading dataset \", path)\n",
        "        image_data = []\n",
        "        class_labels = []\n",
        "\n",
        "        # Walk the domain dataset and collect the images, and the class/domain labels based on the appropriate directory\n",
        "        # name\n",
        "        for root, dirs, files in os.walk(path):\n",
        "            for file in files:\n",
        "                _, class_label = os.path.split(os.path.normpath(root))\n",
        "\n",
        "                image_path = os.path.join(root, file)\n",
        "                # Load image and convert it to an array of float\n",
        "                img = image.load_img(image_path, target_size=input_shape)\n",
        "                img_arr = image.img_to_array(img, dtype='float')\n",
        "\n",
        "                # Rescale pixel values to be between 0 and 1\n",
        "                norm_image_arr = img_arr / 255\n",
        "                image_data.append(norm_image_arr)\n",
        "                class_labels.append(class_label)\n",
        "        label_encoder = LabelBinarizer()\n",
        "        class_labels = label_encoder.fit_transform(class_labels)\n",
        "        return image_data, class_labels\n",
        "\n",
        "    def validate(self, x_test, y_test, model, num_reconstruct):\n",
        "        samples = x_test[:num_reconstruct]\n",
        "        labels = y_test[:num_reconstruct]\n",
        "\n",
        "        faux = model.predict(samples)\n",
        "        for i in np.arange(0, num_reconstruct):\n",
        "            # Get the sample and the reconstruction\n",
        "            sample = samples[i,:,:,:]\n",
        "            reconstruction = faux[0][i,:,:,:]\n",
        "            # img_real = Image.fromarray((sample*255).astype(np.uint8), 'RGB')\n",
        "            # img_fake = Image.fromarray((reconstruction*255).astype(np.uint8), 'RGB')\n",
        "            save_dir = \"/home/phat/PycharmProjects/Autoencoder_Induced_Domain_Drift/ae_sample_results\"\n",
        "            real_file_name = \"real_\" + str(10+i) + \".png\"\n",
        "            fake_file_name = \"fake_\" + str(10+i) + \".png\"\n",
        "            # img_real.save(os.path.join(save_dir, real_file_name))\n",
        "            # img_fake.save(os.path.join(save_dir, fake_file_name))\n",
        "            imsave(os.path.join(save_dir, real_file_name), sample)\n",
        "            imsave(os.path.join(save_dir, fake_file_name), reconstruction)\n",
        "            input_class = labels[i]\n",
        "            # Matplotlib preparations\n",
        "            fig, axes = plt.subplots(1, 2)\n",
        "            # Plot sample and reconstruciton\n",
        "            axes[0].imshow(sample)\n",
        "            axes[0].set_title('Original image')\n",
        "            axes[1].imshow(reconstruction)\n",
        "            axes[1].set_title('Reconstruction with Conv2DTranspose')\n",
        "            fig.suptitle(f'MNIST target = {input_class}')\n",
        "            # plt.gray()\n",
        "            plt.show()\n",
        "\n"
      ]
    },
    {
      "cell_type": "code",
      "source": [
        "%rm -rf ../CSCI602/"
      ],
      "metadata": {
        "id": "oVAxOOdSRf5N"
      },
      "execution_count": 33,
      "outputs": []
    },
    {
      "cell_type": "code",
      "source": [
        "%cd /content"
      ],
      "metadata": {
        "colab": {
          "base_uri": "https://localhost:8080/"
        },
        "id": "v08EXqoJTeCx",
        "outputId": "7891bb7d-f8c2-4c3d-cebf-326e51a7f02d"
      },
      "execution_count": 36,
      "outputs": [
        {
          "output_type": "stream",
          "name": "stdout",
          "text": [
            "/content\n"
          ]
        }
      ]
    },
    {
      "cell_type": "code",
      "execution_count": 30,
      "metadata": {
        "colab": {
          "base_uri": "https://localhost:8080/"
        },
        "id": "YjB1ar5Gkr-A",
        "outputId": "a372137e-df38-4910-c926-fed7a79d6a7b"
      },
      "outputs": [
        {
          "output_type": "stream",
          "name": "stdout",
          "text": [
            "\n",
            "\n",
            "Pretrained auto-encoder path not provided or resue False. Pretraining base auto-encoder model\n",
            "Model: \"model_5\"\n",
            "_________________________________________________________________\n",
            " Layer (type)                Output Shape              Param #   \n",
            "=================================================================\n",
            " input_6 (InputLayer)        [(None, 256, 256, 3)]     0         \n",
            "                                                                 \n",
            " encode_5 (Conv2D)           (None, 256, 256, 16)      784       \n",
            "                                                                 \n",
            " encode_6 (Conv2D)           (None, 256, 256, 32)      2080      \n",
            "                                                                 \n",
            " encode_out (AveragePooling  (None, 128, 128, 32)      0         \n",
            " 2D)                                                             \n",
            "                                                                 \n",
            " decode_up_sample (UpSampli  (None, 256, 256, 32)      0         \n",
            " ng2D)                                                           \n",
            "                                                                 \n",
            " decode_1 (Conv2D)           (None, 256, 256, 16)      2064      \n",
            "                                                                 \n",
            " decode_2 (Conv2D)           (None, 256, 256, 3)       771       \n",
            "                                                                 \n",
            "=================================================================\n",
            "Total params: 5699 (22.26 KB)\n",
            "Trainable params: 5699 (22.26 KB)\n",
            "Non-trainable params: 0 (0.00 Byte)\n",
            "_________________________________________________________________\n",
            "Epoch 1/10\n",
            "18/18 [==============================] - 127s 7s/step - loss: 0.5464 - accuracy: 0.3198 - val_loss: 0.5273 - val_accuracy: 0.0818\n",
            "Epoch 2/10\n",
            "18/18 [==============================] - 122s 7s/step - loss: 0.5124 - accuracy: 0.1036 - val_loss: 0.5097 - val_accuracy: 0.1656\n",
            "Epoch 3/10\n",
            "18/18 [==============================] - 122s 7s/step - loss: 0.4956 - accuracy: 0.6278 - val_loss: 0.4870 - val_accuracy: 0.0920\n",
            "Epoch 4/10\n",
            "18/18 [==============================] - 122s 7s/step - loss: 0.4596 - accuracy: 0.2500 - val_loss: 0.4300 - val_accuracy: 0.6739\n",
            "Epoch 5/10\n",
            "18/18 [==============================] - 122s 7s/step - loss: 0.3797 - accuracy: 0.1794 - val_loss: 0.3291 - val_accuracy: 0.1001\n",
            "Epoch 6/10\n",
            "18/18 [==============================] - 122s 7s/step - loss: 0.2891 - accuracy: 0.0988 - val_loss: 0.2664 - val_accuracy: 0.1015\n",
            "Epoch 7/10\n",
            "18/18 [==============================] - 124s 7s/step - loss: 0.2513 - accuracy: 0.1047 - val_loss: 0.2472 - val_accuracy: 0.1156\n",
            "Epoch 8/10\n",
            "18/18 [==============================] - 124s 7s/step - loss: 0.2385 - accuracy: 0.1359 - val_loss: 0.2398 - val_accuracy: 0.1850\n",
            "Epoch 9/10\n",
            "18/18 [==============================] - 125s 7s/step - loss: 0.2334 - accuracy: 0.1918 - val_loss: 0.2366 - val_accuracy: 0.1912\n",
            "Epoch 10/10\n",
            "18/18 [==============================] - 125s 7s/step - loss: 0.2314 - accuracy: 0.2056 - val_loss: 0.2352 - val_accuracy: 0.2068\n",
            "save pretrained ae model  /content/CSCI602/Project2/models/ae_augmentors/pretrained_ae.keras\n",
            "\n",
            "Pre-trained auto-encoder model saved:  /content/CSCI602/Project2/models/ae_augmentors/pretrained_ae.keras \n",
            "\n"
          ]
        }
      ],
      "source": [
        "PRE_AE_PATH = \"/home/phat/PycharmProjects/Autoencoder_Induced_Domain_Drift/models/ae_augmentors/cnn_cycle_ae_wang/pretrain_ae.keras\"\n",
        "AE_MODEL_SAVEPATH=\"/home/phat/PycharmProjects/Autoencoder_Induced_Domain_Drift/models/ae_augmentors/cnn_cycle_ae_wang/pretrain_ae.keras\"\n",
        "\n",
        "if __name__ == '__main__':\n",
        "\n",
        "    # Create a list of arguments to simulate command-line input\n",
        "    argv = [\n",
        "        \"--confpath\", \"/content/CSCI602/Project2/model_config_files/train_config_ae.json\",\n",
        "        \"--mode\", \"test\",\n",
        "        \"--preaepath\", PRE_AE_PATH,\n",
        "        \"--aesavepath\", AE_MODEL_SAVEPATH\n",
        "    ]\n",
        "\n",
        "    parser = argparse.ArgumentParser(description=\"domain drift data script .\")\n",
        "    parser.add_argument(\"--confpath\", dest=\"confpath\", type=str, default='train_config_ae.json')\n",
        "    parser.add_argument(\"--mode\", dest=\"mode\", type=str, default='test')\n",
        "    parser.add_argument(\"--preaepath\", dest=\"preaepath\", type=str, default=PRE_AE_PATH)\n",
        "    parser.add_argument(\"--aesavepath\", dest=\"aemodelsavepath\", type=str, default=AE_MODEL_SAVEPATH)\n",
        "    args = parser.parse_args(argv) # added argv for interactivity\n",
        "\n",
        "    f=open(args.confpath)\n",
        "    train_config = json.load(f)\n",
        "    source_data_path= \"/content/CSCI602/Project2/train_data/amazon/images\"#train_config['source']\n",
        "\n",
        "    src_images, src_labels = utils.load_data(data_path=source_data_path, input_shape=train_config['input_shape'])\n",
        "    x_train, y_train, x_test, y_test = utils.preprocess_data(src_images, src_labels)\n",
        "    generator = ImageAutoEncdoderDecoder(train_config, x_train, y_train, x_test, y_test, initialization=1)\n",
        "\n",
        "\n"
      ]
    },
    {
      "cell_type": "code",
      "source": [
        "# know the file path\n",
        "filepath = \"/content/CSCI602/image_auto_encoder_log.csv\"\n",
        "# use a context manager to open the file as a read-only\n",
        "with open(filepath,\"r\") as file:\n",
        "    # use csv library to read the csv and store it in a variable\n",
        "    csv_reader = csv.reader(file)\n",
        "    # read the first row of the csv if it contains headers and store those in a variable\n",
        "    headers = next(csv_reader)\n",
        "    print(f\"Headers: {headers}\")\n",
        "\n",
        "    # A csv is best treated as a dictionary, so create an empty dict to hold the data\n",
        "    data = {}\n",
        "    # For every header in headers, set the header as a key and the value as an empty array.\n",
        "    for header in headers:\n",
        "        data[header] = []\n",
        "\n",
        "    print(f\"data: {data}\")\n",
        "\n",
        "    # Now for row in the file, for each header in header, append that data in the header's column to the empty array for the dicitonary\n",
        "    for row in csv_reader:\n",
        "        for i, header in enumerate(headers):\n",
        "            data[header].append(row[i])\n",
        "\n",
        "print(f\"Log Data: {data}\")\n",
        "\n",
        "# convert numerical values to a float for better plotting.\n",
        "for i in data:\n",
        "    data[i] = [float(element) for element in data[i]]\n",
        "print(f\"Log Data: {data}\")"
      ],
      "metadata": {
        "colab": {
          "base_uri": "https://localhost:8080/"
        },
        "id": "Ja4gkhlDbbaZ",
        "outputId": "c5436403-fdfb-4bda-ee78-b4ec6180d499"
      },
      "execution_count": 31,
      "outputs": [
        {
          "output_type": "stream",
          "name": "stdout",
          "text": [
            "Headers: ['epoch', 'accuracy', 'loss', 'val_accuracy', 'val_loss']\n",
            "data: {'epoch': [], 'accuracy': [], 'loss': [], 'val_accuracy': [], 'val_loss': []}\n",
            "Log Data: {'epoch': ['0', '1', '2', '3', '4', '5', '6', '7', '8', '9'], 'accuracy': ['0.3198443055152893', '0.10362009704113007', '0.6278361082077026', '0.24995562434196472', '0.1793932467699051', '0.09883773326873779', '0.10467128455638885', '0.13586555421352386', '0.19183512032032013', '0.2056489884853363'], 'loss': ['0.5464306473731995', '0.5124481320381165', '0.49561718106269836', '0.4596289098262787', '0.3796648383140564', '0.28914034366607666', '0.25132298469543457', '0.23851528763771057', '0.23342043161392212', '0.23137801885604858'], 'val_accuracy': ['0.08177168667316437', '0.165610671043396', '0.09200502932071686', '0.673922598361969', '0.100149005651474', '0.10153704136610031', '0.11556073278188705', '0.18504993617534637', '0.1912299394607544', '0.20680823922157288'], 'val_loss': ['0.5272515416145325', '0.5096893310546875', '0.4870351552963257', '0.4300112724304199', '0.3290860950946808', '0.26638975739479065', '0.24724213778972626', '0.23979654908180237', '0.23657846450805664', '0.23519539833068848']}\n",
            "Log Data: {'epoch': [0.0, 1.0, 2.0, 3.0, 4.0, 5.0, 6.0, 7.0, 8.0, 9.0], 'accuracy': [0.3198443055152893, 0.10362009704113007, 0.6278361082077026, 0.24995562434196472, 0.1793932467699051, 0.09883773326873779, 0.10467128455638885, 0.13586555421352386, 0.19183512032032013, 0.2056489884853363], 'loss': [0.5464306473731995, 0.5124481320381165, 0.49561718106269836, 0.4596289098262787, 0.3796648383140564, 0.28914034366607666, 0.25132298469543457, 0.23851528763771057, 0.23342043161392212, 0.23137801885604858], 'val_accuracy': [0.08177168667316437, 0.165610671043396, 0.09200502932071686, 0.673922598361969, 0.100149005651474, 0.10153704136610031, 0.11556073278188705, 0.18504993617534637, 0.1912299394607544, 0.20680823922157288], 'val_loss': [0.5272515416145325, 0.5096893310546875, 0.4870351552963257, 0.4300112724304199, 0.3290860950946808, 0.26638975739479065, 0.24724213778972626, 0.23979654908180237, 0.23657846450805664, 0.23519539833068848]}\n"
          ]
        }
      ]
    },
    {
      "cell_type": "code",
      "source": [
        "# Plot training & validation loss values\n",
        "x = [epoch+1 for epoch in data['epoch']]\n",
        "plt.plot(x,data['loss'],label=\"Loss\")\n",
        "plt.plot(x,data['val_loss'],label=\"Validation Loss\")\n",
        "plt.title('Model Loss vs. Epoch')\n",
        "plt.ylabel('Loss')\n",
        "plt.xlabel('Epoch')\n",
        "plt.legend()\n",
        "plt.show()\n",
        "\n",
        "plt.plot(x,data['accuracy'],label=\"Accuracy\")\n",
        "plt.plot(x,data['val_accuracy'],label=\"Validation Accuracy\")\n",
        "plt.title('Model Accuracy vs. Epoch')\n",
        "plt.ylabel('Accuracy')\n",
        "plt.xlabel('Epoch')\n",
        "plt.legend()\n",
        "plt.show()"
      ],
      "metadata": {
        "colab": {
          "base_uri": "https://localhost:8080/",
          "height": 927
        },
        "id": "TfdFZr0ecUrd",
        "outputId": "cc480df2-4ecb-456b-ca6e-f06d113395bd"
      },
      "execution_count": 32,
      "outputs": [
        {
          "output_type": "display_data",
          "data": {
            "text/plain": [
              "<Figure size 640x480 with 1 Axes>"
            ],
            "image/png": "[encoded data removed]"
          },
          "metadata": {}
        },
        {
          "output_type": "display_data",
          "data": {
            "text/plain": [
              "<Figure size 640x480 with 1 Axes>"
            ],
            "image/png": "[encoded data removed]"
          },
          "metadata": {}
        }
      ]
    }
  ],
  "metadata": {
    "kernelspec": {
      "display_name": "Python 3",
      "name": "python3"
    },
    "language_info": {
      "codemirror_mode": {
        "name": "ipython",
        "version": 3
      },
      "file_extension": ".py",
      "mimetype": "text/x-python",
      "name": "python",
      "nbconvert_exporter": "python",
      "pygments_lexer": "ipython3",
      "version": "3.10.13"
    },
    "colab": {
      "provenance": [],
      "gpuType": "V28",
      "include_colab_link": true
    },
    "accelerator": "TPU"
  },
  "nbformat": 4,
  "nbformat_minor": 0
}