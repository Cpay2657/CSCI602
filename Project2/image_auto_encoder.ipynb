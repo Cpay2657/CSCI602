version https://git-lfs.github.com/spec/v1
oid sha256:1a6e05b99596e905b9bec0bae89f079189dadae554b8e510449c2baae4f5fc77
size 14730
